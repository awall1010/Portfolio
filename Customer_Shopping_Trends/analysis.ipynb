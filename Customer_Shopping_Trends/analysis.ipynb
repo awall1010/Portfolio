{
 "cells": [
  {
   "cell_type": "code",
   "execution_count": 11,
   "id": "hungry-bobby",
   "metadata": {},
   "outputs": [],
   "source": [
    "# Import packages for data manipulation\n",
    "import numpy as np\n",
    "import pandas as pd\n",
    "\n",
    "# Import packages for data visualization\n",
    "import matplotlib.pyplot as plt\n",
    "\n",
    "# This lets us see all of the columns, preventing Juptyer from redacting them.\n",
    "pd.set_option('display.max_columns', None)\n",
    "\n",
    "# Import packages for data modeling\n",
    "from sklearn.model_selection import GridSearchCV, train_test_split\n",
    "from sklearn.metrics import roc_auc_score, roc_curve, auc\n",
    "from sklearn.metrics import accuracy_score, precision_score, recall_score,\\\n",
    "f1_score, confusion_matrix, ConfusionMatrixDisplay, RocCurveDisplay, PrecisionRecallDisplay\n",
    "\n",
    "from sklearn.ensemble import RandomForestClassifier\n",
    "from xgboost import XGBClassifier\n",
    "\n",
    "# This is the function that helps plot feature importance\n",
    "from xgboost import plot_importance\n",
    "\n",
    "# This module lets us save our models once we fit them.\n",
    "import pickle"
   ]
  },
  {
   "cell_type": "code",
   "execution_count": 4,
   "id": "rising-sharing",
   "metadata": {},
   "outputs": [],
   "source": [
    "df = pd.read_csv('data/shopping_trends.csv')\n",
    "\n",
    "df1 = pd.read_csv('data/shopping_trends_updated.csv')"
   ]
  },
  {
   "cell_type": "code",
   "execution_count": 7,
   "id": "raised-shanghai",
   "metadata": {},
   "outputs": [
    {
     "data": {
      "text/plain": [
       "Index(['Customer ID', 'Age', 'Gender', 'Item Purchased', 'Category',\n",
       "       'Purchase Amount (USD)', 'Location', 'Size', 'Color', 'Season',\n",
       "       'Review Rating', 'Subscription Status', 'Shipping Type',\n",
       "       'Discount Applied', 'Promo Code Used', 'Previous Purchases',\n",
       "       'Payment Method', 'Frequency of Purchases'],\n",
       "      dtype='object')"
      ]
     },
     "execution_count": 7,
     "metadata": {},
     "output_type": "execute_result"
    }
   ],
   "source": [
    "df1.columns"
   ]
  },
  {
   "cell_type": "code",
   "execution_count": 5,
   "id": "interior-weekend",
   "metadata": {},
   "outputs": [
    {
     "data": {
      "text/html": [
       "<div>\n",
       "<style scoped>\n",
       "    .dataframe tbody tr th:only-of-type {\n",
       "        vertical-align: middle;\n",
       "    }\n",
       "\n",
       "    .dataframe tbody tr th {\n",
       "        vertical-align: top;\n",
       "    }\n",
       "\n",
       "    .dataframe thead th {\n",
       "        text-align: right;\n",
       "    }\n",
       "</style>\n",
       "<table border=\"1\" class=\"dataframe\">\n",
       "  <thead>\n",
       "    <tr style=\"text-align: right;\">\n",
       "      <th></th>\n",
       "      <th>Customer ID</th>\n",
       "      <th>Age</th>\n",
       "      <th>Gender</th>\n",
       "      <th>Item Purchased</th>\n",
       "      <th>Category</th>\n",
       "      <th>Purchase Amount (USD)</th>\n",
       "      <th>Location</th>\n",
       "      <th>Size</th>\n",
       "      <th>Color</th>\n",
       "      <th>Season</th>\n",
       "      <th>Review Rating</th>\n",
       "      <th>Subscription Status</th>\n",
       "      <th>Shipping Type</th>\n",
       "      <th>Discount Applied</th>\n",
       "      <th>Promo Code Used</th>\n",
       "      <th>Previous Purchases</th>\n",
       "      <th>Payment Method</th>\n",
       "      <th>Frequency of Purchases</th>\n",
       "    </tr>\n",
       "  </thead>\n",
       "  <tbody>\n",
       "    <tr>\n",
       "      <th>0</th>\n",
       "      <td>1</td>\n",
       "      <td>55</td>\n",
       "      <td>Male</td>\n",
       "      <td>Blouse</td>\n",
       "      <td>Clothing</td>\n",
       "      <td>53</td>\n",
       "      <td>Kentucky</td>\n",
       "      <td>L</td>\n",
       "      <td>Gray</td>\n",
       "      <td>Winter</td>\n",
       "      <td>3.1</td>\n",
       "      <td>Yes</td>\n",
       "      <td>Express</td>\n",
       "      <td>Yes</td>\n",
       "      <td>Yes</td>\n",
       "      <td>14</td>\n",
       "      <td>Venmo</td>\n",
       "      <td>Fortnightly</td>\n",
       "    </tr>\n",
       "    <tr>\n",
       "      <th>1</th>\n",
       "      <td>2</td>\n",
       "      <td>19</td>\n",
       "      <td>Male</td>\n",
       "      <td>Sweater</td>\n",
       "      <td>Clothing</td>\n",
       "      <td>64</td>\n",
       "      <td>Maine</td>\n",
       "      <td>L</td>\n",
       "      <td>Maroon</td>\n",
       "      <td>Winter</td>\n",
       "      <td>3.1</td>\n",
       "      <td>Yes</td>\n",
       "      <td>Express</td>\n",
       "      <td>Yes</td>\n",
       "      <td>Yes</td>\n",
       "      <td>2</td>\n",
       "      <td>Cash</td>\n",
       "      <td>Fortnightly</td>\n",
       "    </tr>\n",
       "    <tr>\n",
       "      <th>2</th>\n",
       "      <td>3</td>\n",
       "      <td>50</td>\n",
       "      <td>Male</td>\n",
       "      <td>Jeans</td>\n",
       "      <td>Clothing</td>\n",
       "      <td>73</td>\n",
       "      <td>Massachusetts</td>\n",
       "      <td>S</td>\n",
       "      <td>Maroon</td>\n",
       "      <td>Spring</td>\n",
       "      <td>3.1</td>\n",
       "      <td>Yes</td>\n",
       "      <td>Free Shipping</td>\n",
       "      <td>Yes</td>\n",
       "      <td>Yes</td>\n",
       "      <td>23</td>\n",
       "      <td>Credit Card</td>\n",
       "      <td>Weekly</td>\n",
       "    </tr>\n",
       "    <tr>\n",
       "      <th>3</th>\n",
       "      <td>4</td>\n",
       "      <td>21</td>\n",
       "      <td>Male</td>\n",
       "      <td>Sandals</td>\n",
       "      <td>Footwear</td>\n",
       "      <td>90</td>\n",
       "      <td>Rhode Island</td>\n",
       "      <td>M</td>\n",
       "      <td>Maroon</td>\n",
       "      <td>Spring</td>\n",
       "      <td>3.5</td>\n",
       "      <td>Yes</td>\n",
       "      <td>Next Day Air</td>\n",
       "      <td>Yes</td>\n",
       "      <td>Yes</td>\n",
       "      <td>49</td>\n",
       "      <td>PayPal</td>\n",
       "      <td>Weekly</td>\n",
       "    </tr>\n",
       "    <tr>\n",
       "      <th>4</th>\n",
       "      <td>5</td>\n",
       "      <td>45</td>\n",
       "      <td>Male</td>\n",
       "      <td>Blouse</td>\n",
       "      <td>Clothing</td>\n",
       "      <td>49</td>\n",
       "      <td>Oregon</td>\n",
       "      <td>M</td>\n",
       "      <td>Turquoise</td>\n",
       "      <td>Spring</td>\n",
       "      <td>2.7</td>\n",
       "      <td>Yes</td>\n",
       "      <td>Free Shipping</td>\n",
       "      <td>Yes</td>\n",
       "      <td>Yes</td>\n",
       "      <td>31</td>\n",
       "      <td>PayPal</td>\n",
       "      <td>Annually</td>\n",
       "    </tr>\n",
       "  </tbody>\n",
       "</table>\n",
       "</div>"
      ],
      "text/plain": [
       "   Customer ID  Age Gender Item Purchased  Category  Purchase Amount (USD)  \\\n",
       "0            1   55   Male         Blouse  Clothing                     53   \n",
       "1            2   19   Male        Sweater  Clothing                     64   \n",
       "2            3   50   Male          Jeans  Clothing                     73   \n",
       "3            4   21   Male        Sandals  Footwear                     90   \n",
       "4            5   45   Male         Blouse  Clothing                     49   \n",
       "\n",
       "        Location Size      Color  Season  Review Rating Subscription Status  \\\n",
       "0       Kentucky    L       Gray  Winter            3.1                 Yes   \n",
       "1          Maine    L     Maroon  Winter            3.1                 Yes   \n",
       "2  Massachusetts    S     Maroon  Spring            3.1                 Yes   \n",
       "3   Rhode Island    M     Maroon  Spring            3.5                 Yes   \n",
       "4         Oregon    M  Turquoise  Spring            2.7                 Yes   \n",
       "\n",
       "   Shipping Type Discount Applied Promo Code Used  Previous Purchases  \\\n",
       "0        Express              Yes             Yes                  14   \n",
       "1        Express              Yes             Yes                   2   \n",
       "2  Free Shipping              Yes             Yes                  23   \n",
       "3   Next Day Air              Yes             Yes                  49   \n",
       "4  Free Shipping              Yes             Yes                  31   \n",
       "\n",
       "  Payment Method Frequency of Purchases  \n",
       "0          Venmo            Fortnightly  \n",
       "1           Cash            Fortnightly  \n",
       "2    Credit Card                 Weekly  \n",
       "3         PayPal                 Weekly  \n",
       "4         PayPal               Annually  "
      ]
     },
     "execution_count": 5,
     "metadata": {},
     "output_type": "execute_result"
    }
   ],
   "source": [
    "df1.head()"
   ]
  },
  {
   "cell_type": "code",
   "execution_count": 12,
   "id": "hawaiian-monkey",
   "metadata": {},
   "outputs": [
    {
     "name": "stdout",
     "output_type": "stream",
     "text": [
      "<class 'pandas.core.frame.DataFrame'>\n",
      "RangeIndex: 3900 entries, 0 to 3899\n",
      "Data columns (total 18 columns):\n",
      " #   Column                  Non-Null Count  Dtype  \n",
      "---  ------                  --------------  -----  \n",
      " 0   Customer ID             3900 non-null   int64  \n",
      " 1   Age                     3900 non-null   int64  \n",
      " 2   Gender                  3900 non-null   object \n",
      " 3   Item Purchased          3900 non-null   object \n",
      " 4   Category                3900 non-null   object \n",
      " 5   Purchase Amount (USD)   3900 non-null   int64  \n",
      " 6   Location                3900 non-null   object \n",
      " 7   Size                    3900 non-null   object \n",
      " 8   Color                   3900 non-null   object \n",
      " 9   Season                  3900 non-null   object \n",
      " 10  Review Rating           3900 non-null   float64\n",
      " 11  Subscription Status     3900 non-null   object \n",
      " 12  Shipping Type           3900 non-null   object \n",
      " 13  Discount Applied        3900 non-null   object \n",
      " 14  Promo Code Used         3900 non-null   object \n",
      " 15  Previous Purchases      3900 non-null   int64  \n",
      " 16  Payment Method          3900 non-null   object \n",
      " 17  Frequency of Purchases  3900 non-null   object \n",
      "dtypes: float64(1), int64(4), object(13)\n",
      "memory usage: 548.6+ KB\n"
     ]
    }
   ],
   "source": [
    "df1.info()"
   ]
  },
  {
   "cell_type": "code",
   "execution_count": 13,
   "id": "modified-sunrise",
   "metadata": {},
   "outputs": [
    {
     "data": {
      "text/html": [
       "<div>\n",
       "<style scoped>\n",
       "    .dataframe tbody tr th:only-of-type {\n",
       "        vertical-align: middle;\n",
       "    }\n",
       "\n",
       "    .dataframe tbody tr th {\n",
       "        vertical-align: top;\n",
       "    }\n",
       "\n",
       "    .dataframe thead th {\n",
       "        text-align: right;\n",
       "    }\n",
       "</style>\n",
       "<table border=\"1\" class=\"dataframe\">\n",
       "  <thead>\n",
       "    <tr style=\"text-align: right;\">\n",
       "      <th></th>\n",
       "      <th>Customer ID</th>\n",
       "      <th>Age</th>\n",
       "      <th>Purchase Amount (USD)</th>\n",
       "      <th>Review Rating</th>\n",
       "      <th>Previous Purchases</th>\n",
       "    </tr>\n",
       "  </thead>\n",
       "  <tbody>\n",
       "    <tr>\n",
       "      <th>count</th>\n",
       "      <td>3900.000000</td>\n",
       "      <td>3900.000000</td>\n",
       "      <td>3900.000000</td>\n",
       "      <td>3900.000000</td>\n",
       "      <td>3900.000000</td>\n",
       "    </tr>\n",
       "    <tr>\n",
       "      <th>mean</th>\n",
       "      <td>1950.500000</td>\n",
       "      <td>44.068462</td>\n",
       "      <td>59.764359</td>\n",
       "      <td>3.749949</td>\n",
       "      <td>25.351538</td>\n",
       "    </tr>\n",
       "    <tr>\n",
       "      <th>std</th>\n",
       "      <td>1125.977353</td>\n",
       "      <td>15.207589</td>\n",
       "      <td>23.685392</td>\n",
       "      <td>0.716223</td>\n",
       "      <td>14.447125</td>\n",
       "    </tr>\n",
       "    <tr>\n",
       "      <th>min</th>\n",
       "      <td>1.000000</td>\n",
       "      <td>18.000000</td>\n",
       "      <td>20.000000</td>\n",
       "      <td>2.500000</td>\n",
       "      <td>1.000000</td>\n",
       "    </tr>\n",
       "    <tr>\n",
       "      <th>25%</th>\n",
       "      <td>975.750000</td>\n",
       "      <td>31.000000</td>\n",
       "      <td>39.000000</td>\n",
       "      <td>3.100000</td>\n",
       "      <td>13.000000</td>\n",
       "    </tr>\n",
       "    <tr>\n",
       "      <th>50%</th>\n",
       "      <td>1950.500000</td>\n",
       "      <td>44.000000</td>\n",
       "      <td>60.000000</td>\n",
       "      <td>3.700000</td>\n",
       "      <td>25.000000</td>\n",
       "    </tr>\n",
       "    <tr>\n",
       "      <th>75%</th>\n",
       "      <td>2925.250000</td>\n",
       "      <td>57.000000</td>\n",
       "      <td>81.000000</td>\n",
       "      <td>4.400000</td>\n",
       "      <td>38.000000</td>\n",
       "    </tr>\n",
       "    <tr>\n",
       "      <th>max</th>\n",
       "      <td>3900.000000</td>\n",
       "      <td>70.000000</td>\n",
       "      <td>100.000000</td>\n",
       "      <td>5.000000</td>\n",
       "      <td>50.000000</td>\n",
       "    </tr>\n",
       "  </tbody>\n",
       "</table>\n",
       "</div>"
      ],
      "text/plain": [
       "       Customer ID          Age  Purchase Amount (USD)  Review Rating  \\\n",
       "count  3900.000000  3900.000000            3900.000000    3900.000000   \n",
       "mean   1950.500000    44.068462              59.764359       3.749949   \n",
       "std    1125.977353    15.207589              23.685392       0.716223   \n",
       "min       1.000000    18.000000              20.000000       2.500000   \n",
       "25%     975.750000    31.000000              39.000000       3.100000   \n",
       "50%    1950.500000    44.000000              60.000000       3.700000   \n",
       "75%    2925.250000    57.000000              81.000000       4.400000   \n",
       "max    3900.000000    70.000000             100.000000       5.000000   \n",
       "\n",
       "       Previous Purchases  \n",
       "count         3900.000000  \n",
       "mean            25.351538  \n",
       "std             14.447125  \n",
       "min              1.000000  \n",
       "25%             13.000000  \n",
       "50%             25.000000  \n",
       "75%             38.000000  \n",
       "max             50.000000  "
      ]
     },
     "execution_count": 13,
     "metadata": {},
     "output_type": "execute_result"
    }
   ],
   "source": [
    "df1.describe()"
   ]
  },
  {
   "cell_type": "code",
   "execution_count": 15,
   "id": "foster-virus",
   "metadata": {},
   "outputs": [
    {
     "data": {
      "text/plain": [
       "0"
      ]
     },
     "execution_count": 15,
     "metadata": {},
     "output_type": "execute_result"
    }
   ],
   "source": [
    "#find amount of duplicates\n",
    "# identify the duplicated rows based on all columns\n",
    "dups = df1.duplicated()\n",
    "\n",
    "# count the number of duplicated rows\n",
    "dup_count = dups.sum()\n",
    "\n",
    "dup_count"
   ]
  },
  {
   "cell_type": "code",
   "execution_count": 18,
   "id": "compliant-controversy",
   "metadata": {},
   "outputs": [],
   "source": [
    "colors = [\"#89CFF0\", \"#FF69B4\", \"#FFD700\", \"#7B68EE\", \"#FF4500\",\n",
    "          \"#9370DB\", \"#32CD32\", \"#8A2BE2\", \"#FF6347\", \"#20B2AA\",\n",
    "          \"#FF69B4\", \"#00CED1\", \"#FF7F50\", \"#7FFF00\", \"#DA70D6\"]"
   ]
  },
  {
   "cell_type": "code",
   "execution_count": 19,
   "id": "silent-sheet",
   "metadata": {},
   "outputs": [
    {
     "data": {
      "image/png": "[encoded data removed]",
      "text/plain": [
       "<Figure size 1440x432 with 1 Axes>"
      ]
     },
     "metadata": {
      "needs_background": "light"
     },
     "output_type": "display_data"
    }
   ],
   "source": [
    "plt.figure(figsize = (20, 6))\n",
    "ax = df1[\"Gender\"].value_counts().plot(kind = 'bar', color = colors, rot = 0)\n",
    "ax.set_xticklabels(('Male', 'Female'))\n",
    "\n",
    "for p in ax.patches:\n",
    "    ax.annotate(int(p.get_height()), (p.get_x() + 0.25, p.get_height() + 1), ha = 'center', va = 'bottom', color = 'black')\n",
    "    ax.tick_params(axis = 'both', labelsize = 15)\n",
    "plt.xlabel('Employment Type', weight = \"bold\", color = \"#D71313\", fontsize = 14, labelpad = 20)\n",
    "plt.ylabel('Number of Occurrences', weight = \"bold\", color = \"#D71313\", fontsize = 14, labelpad = 20);"
   ]
  },
  {
   "cell_type": "code",
   "execution_count": 20,
   "id": "leading-tiger",
   "metadata": {},
   "outputs": [],
   "source": [
    "# # Group data by \"Item Purchased\" and calculate the sum of \"Purchase Amount USD\"\n",
    "# grouped_data = df1.groupby(\"Item Purchased\")[\"Purchase Amount (USD)\"].sum()\n",
    "\n",
    "# # Create a bar chart\n",
    "# plt.bar(grouped_data.index, grouped_data.values)\n",
    "# plt.xlabel(\"Item Purchased\")\n",
    "# plt.ylabel(\"Purchase Amount USD\")\n",
    "# plt.title(\"Purchase Amount USD by Item Purchased\")\n",
    "\n",
    "# # Display the chart\n",
    "# plt.show()"
   ]
  },
  {
   "cell_type": "code",
   "execution_count": 23,
   "id": "ecological-stress",
   "metadata": {},
   "outputs": [
    {
     "data": {
      "text/plain": [
       "Male      0.68\n",
       "Female    0.32\n",
       "Name: Gender, dtype: float64"
      ]
     },
     "execution_count": 23,
     "metadata": {},
     "output_type": "execute_result"
    }
   ],
   "source": [
    "gender_counts = df1['Gender'].value_counts(normalize=True)\n",
    "gender_counts"
   ]
  },
  {
   "cell_type": "code",
   "execution_count": 25,
   "id": "wooden-beatles",
   "metadata": {},
   "outputs": [
    {
     "data": {
      "text/plain": [
       "Clothing       0.445385\n",
       "Accessories    0.317949\n",
       "Footwear       0.153590\n",
       "Outerwear      0.083077\n",
       "Name: Category, dtype: float64"
      ]
     },
     "execution_count": 25,
     "metadata": {},
     "output_type": "execute_result"
    }
   ],
   "source": [
    "category_counts = df1['Category'].value_counts(normalize=True)\n",
    "category_counts"
   ]
  },
  {
   "cell_type": "code",
   "execution_count": 32,
   "id": "finite-married",
   "metadata": {},
   "outputs": [
    {
     "data": {
      "image/png": "[encoded data removed]",
      "text/plain": [
       "<Figure size 432x288 with 1 Axes>"
      ]
     },
     "metadata": {
      "needs_background": "light"
     },
     "output_type": "display_data"
    }
   ],
   "source": [
    "ax = df1['Category'].value_counts().plot(kind='bar',color = colors,rot=0)"
   ]
  },
  {
   "cell_type": "code",
   "execution_count": 35,
   "id": "changing-height",
   "metadata": {},
   "outputs": [
    {
     "data": {
      "image/png": "[encoded data removed]",
      "text/plain": [
       "<Figure size 432x432 with 1 Axes>"
      ]
     },
     "metadata": {},
     "output_type": "display_data"
    }
   ],
   "source": [
    "category_purchase_sum = df1.groupby(\"Category\")[\"Purchase Amount (USD)\"].sum()\n",
    "\n",
    "# Create a pie chart\n",
    "plt.figure(figsize=(6, 6))\n",
    "category_purchase_sum.plot.pie(autopct='%1.1f%%', startangle=90, wedgeprops={'edgecolor': 'white'})\n",
    "plt.title(\"Purchase Amount (USD) by Category\")\n",
    "plt.ylabel(\"\")  # Remove the default label for the y-axis\n",
    "\n",
    "# Display the pie chart\n",
    "plt.show()"
   ]
  },
  {
   "cell_type": "code",
   "execution_count": 41,
   "id": "homeless-community",
   "metadata": {},
   "outputs": [
    {
     "name": "stdout",
     "output_type": "stream",
     "text": [
      "Gender\n",
      "Female    44.007212\n",
      "Male      44.097285\n",
      "Name: Age, dtype: float64\n"
     ]
    }
   ],
   "source": [
    "# Average age of customer\n",
    "\n",
    "average_age = df1['Age'].mean()\n",
    "\n",
    "avg_by_gender = df1.groupby('Gender')['Age'].mean()\n",
    "\n",
    "print(avg_by_gender)"
   ]
  },
  {
   "cell_type": "code",
   "execution_count": 48,
   "id": "technological-endorsement",
   "metadata": {},
   "outputs": [
    {
     "name": "stdout",
     "output_type": "stream",
     "text": [
      "Blouse        171\n",
      "Pants         171\n",
      "Jewelry       171\n",
      "Shirt         169\n",
      "Dress         166\n",
      "Sweater       164\n",
      "Jacket        163\n",
      "Belt          161\n",
      "Sunglasses    161\n",
      "Coat          161\n",
      "Sandals       160\n",
      "Socks         159\n",
      "Skirt         158\n",
      "Scarf         157\n",
      "Shorts        157\n",
      "Hat           154\n",
      "Handbag       153\n",
      "Hoodie        151\n",
      "Shoes         150\n",
      "T-shirt       147\n",
      "Sneakers      145\n",
      "Boots         144\n",
      "Backpack      143\n",
      "Gloves        140\n",
      "Jeans         124\n",
      "Name: Item Purchased, dtype: int64\n"
     ]
    }
   ],
   "source": [
    "# most purchased item\n",
    "\n",
    "# ['Customer ID', 'Age', 'Gender', 'Item Purchased', 'Category',\n",
    "#        'Purchase Amount (USD)', 'Location', 'Size', 'Color', 'Season',\n",
    "#        'Review Rating', 'Subscription Status', 'Shipping Type',\n",
    "#        'Discount Applied', 'Promo Code Used', 'Previous Purchases',\n",
    "#        'Payment Method', 'Frequency of Purchases']\n",
    "\n",
    "most_purchased = df1['Item Purchased'].value_counts()\n",
    "print(most_purchased)\n"
   ]
  },
  {
   "cell_type": "code",
   "execution_count": 49,
   "id": "instant-vitamin",
   "metadata": {},
   "outputs": [
    {
     "data": {
      "text/plain": [
       "Category\n",
       "Accessories     74200\n",
       "Clothing       104264\n",
       "Footwear        36093\n",
       "Outerwear       18524\n",
       "Name: Purchase Amount (USD), dtype: int64"
      ]
     },
     "execution_count": 49,
     "metadata": {},
     "output_type": "execute_result"
    }
   ],
   "source": [
    "category_purchase_sum"
   ]
  },
  {
   "cell_type": "code",
   "execution_count": null,
   "id": "magnetic-ranch",
   "metadata": {},
   "outputs": [],
   "source": []
  },
  {
   "cell_type": "code",
   "execution_count": null,
   "id": "polyphonic-federal",
   "metadata": {},
   "outputs": [],
   "source": []
  },
  {
   "cell_type": "code",
   "execution_count": 51,
   "id": "sound-guard",
   "metadata": {},
   "outputs": [
    {
     "name": "stdout",
     "output_type": "stream",
     "text": [
      "Average review rating by gender:\n",
      " Gender\n",
      "Female    3.741426\n",
      "Male      3.753959\n",
      "Name: Review Rating, dtype: float64\n"
     ]
    }
   ],
   "source": [
    "# What is the average review rating for male customers and female customers separately ?\n",
    "\n",
    "\n",
    "rev_rating = df1.groupby(\"Gender\")['Review Rating'].mean()\n",
    "\n",
    "print(\"Average review rating by gender:\\n\", rev_rating)"
   ]
  },
  {
   "cell_type": "code",
   "execution_count": 64,
   "id": "sustainable-absence",
   "metadata": {},
   "outputs": [
    {
     "data": {
      "text/plain": [
       "'PayPal'"
      ]
     },
     "execution_count": 64,
     "metadata": {},
     "output_type": "execute_result"
    }
   ],
   "source": [
    "# What is the most common payment method used by customers ?\n",
    "most_common_payment = df1['Payment Method'].value_counts()\n",
    "most_common_payment_method = df1['Payment Method'].mode()[0]\n",
    "most_common_payment_method\n",
    "# most_common_payment\n"
   ]
  },
  {
   "cell_type": "code",
   "execution_count": 66,
   "id": "alert-information",
   "metadata": {},
   "outputs": [
    {
     "data": {
      "text/plain": [
       "60.0"
      ]
     },
     "execution_count": 66,
     "metadata": {},
     "output_type": "execute_result"
    }
   ],
   "source": [
    "# What is the median purchase amount (USD) ?\n",
    "\n",
    "df1['Purchase Amount (USD)'].median()"
   ]
  },
  {
   "cell_type": "code",
   "execution_count": 67,
   "id": "friendly-statement",
   "metadata": {},
   "outputs": [
    {
     "data": {
      "text/plain": [
       "No     2847\n",
       "Yes    1053\n",
       "Name: Subscription Status, dtype: int64"
      ]
     },
     "execution_count": 67,
     "metadata": {},
     "output_type": "execute_result"
    }
   ],
   "source": [
    "# How many customers have opted for the Subscription ?\n",
    "df1['Subscription Status'].value_counts()"
   ]
  },
  {
   "cell_type": "code",
   "execution_count": 72,
   "id": "latest-indication",
   "metadata": {},
   "outputs": [
    {
     "name": "stdout",
     "output_type": "stream",
     "text": [
      "Subscription Status\n",
      "No     59.865121\n",
      "Yes    59.491928\n",
      "Name: Purchase Amount (USD), dtype: float64\n"
     ]
    }
   ],
   "source": [
    "# What is the average purchase amount for customers with a subscription status of 'Yes' and 'No' ?\n",
    "\n",
    "yvn= df1.groupby('Subscription Status')['Purchase Amount (USD)'].mean()\n",
    "print(yvn)"
   ]
  },
  {
   "cell_type": "code",
   "execution_count": 75,
   "id": "breathing-exercise",
   "metadata": {},
   "outputs": [
    {
     "data": {
      "text/plain": [
       "Spring    999\n",
       "Fall      975\n",
       "Winter    971\n",
       "Summer    955\n",
       "Name: Season, dtype: int64"
      ]
     },
     "execution_count": 75,
     "metadata": {},
     "output_type": "execute_result"
    }
   ],
   "source": [
    "# What is the most common season for purchases ?\n",
    "most_common_season = df['Season'].mode()[0]\n",
    "season = df1['Season'].value_counts()\n",
    "season"
   ]
  },
  {
   "cell_type": "code",
   "execution_count": 76,
   "id": "common-dover",
   "metadata": {},
   "outputs": [
    {
     "data": {
      "text/plain": [
       "Gender\n",
       "Female     75191\n",
       "Male      157890\n",
       "Name: Purchase Amount (USD), dtype: int64"
      ]
     },
     "execution_count": 76,
     "metadata": {},
     "output_type": "execute_result"
    }
   ],
   "source": [
    "# What is the total purchase amount for each gender ?\n",
    "df1.groupby('Gender')['Purchase Amount (USD)'].sum()"
   ]
  },
  {
   "cell_type": "code",
   "execution_count": 87,
   "id": "waiting-parking",
   "metadata": {},
   "outputs": [
    {
     "data": {
      "text/plain": [
       "43.973821989528794"
      ]
     },
     "execution_count": 87,
     "metadata": {},
     "output_type": "execute_result"
    }
   ],
   "source": [
    "# What is the average age of customers who made purchases in the Summer season ?\n",
    "df1[df1['Season']=='Summer']['Age'].mean()"
   ]
  },
  {
   "cell_type": "code",
   "execution_count": 88,
   "id": "approximate-lawrence",
   "metadata": {},
   "outputs": [
    {
     "data": {
      "text/plain": [
       "1677"
      ]
     },
     "execution_count": 88,
     "metadata": {},
     "output_type": "execute_result"
    }
   ],
   "source": [
    "# How many customers used a promo code for their purchase ?\n",
    "promo_code_count = df1[df1['Promo Code Used'] == 'Yes']['Customer ID'].count()\n",
    "promo_code_count"
   ]
  },
  {
   "cell_type": "code",
   "execution_count": 86,
   "id": "civilian-tuition",
   "metadata": {},
   "outputs": [
    {
     "name": "stdout",
     "output_type": "stream",
     "text": [
      "Max: 5.0 \n",
      "Min: 2.5\n"
     ]
    }
   ],
   "source": [
    "# What is the maximum and minimum review rating in the dataset ?\n",
    "max_review = df1['Review Rating'].max()\n",
    "min_review = df1['Review Rating'].min()\n",
    "\n",
    "print(\"Max:\", max_review, \"\\nMin:\", min_review)"
   ]
  },
  {
   "cell_type": "code",
   "execution_count": null,
   "id": "cutting-doubt",
   "metadata": {},
   "outputs": [],
   "source": [
    "# ['Customer ID', 'Age', 'Gender', 'Item Purchased', 'Category',\n",
    "#        'Purchase Amount (USD)', 'Location', 'Size', 'Color', 'Season',\n",
    "#        'Review Rating', 'Subscription Status', 'Shipping Type',\n",
    "#        'Discount Applied', 'Promo Code Used', 'Previous Purchases',\n",
    "#        'Payment Method', 'Frequency of Purchases']"
   ]
  },
  {
   "cell_type": "code",
   "execution_count": 90,
   "id": "stopped-christmas",
   "metadata": {},
   "outputs": [
    {
     "data": {
      "text/plain": [
       "'Standard'"
      ]
     },
     "execution_count": 90,
     "metadata": {},
     "output_type": "execute_result"
    }
   ],
   "source": [
    "# What is the most common shipping type for customers with a review rating above 4 ?\n",
    "df1[df1['Review Rating']>4]['Shipping Type'].mode()[0]"
   ]
  },
  {
   "cell_type": "code",
   "execution_count": 98,
   "id": "blond-incentive",
   "metadata": {},
   "outputs": [
    {
     "data": {
      "text/plain": [
       "1549"
      ]
     },
     "execution_count": 98,
     "metadata": {},
     "output_type": "execute_result"
    }
   ],
   "source": [
    "# How many customers have made more than 30 previous purchases ?\n",
    "df1[df1['Previous Purchases']>30]['Customer ID'].count()\n",
    "\n",
    "# df1['Customer ID'].count()>30"
   ]
  },
  {
   "cell_type": "code",
   "execution_count": 100,
   "id": "oriental-cookie",
   "metadata": {},
   "outputs": [
    {
     "data": {
      "text/plain": [
       "60.02840542285345"
      ]
     },
     "execution_count": 100,
     "metadata": {},
     "output_type": "execute_result"
    }
   ],
   "source": [
    "# What is the average purchase amount for customers who have made more than 30 previous purchases ?\n",
    "\n",
    "df1[df1['Previous Purchases']>30]['Purchase Amount (USD)'].mean()"
   ]
  },
  {
   "cell_type": "code",
   "execution_count": 101,
   "id": "induced-demand",
   "metadata": {},
   "outputs": [
    {
     "data": {
      "text/plain": [
       "PayPal           189\n",
       "Credit Card      174\n",
       "Bank Transfer    163\n",
       "Cash             155\n",
       "Venmo            152\n",
       "Debit Card       138\n",
       "Name: Payment Method, dtype: int64"
      ]
     },
     "execution_count": 101,
     "metadata": {},
     "output_type": "execute_result"
    }
   ],
   "source": [
    "# What is the most common payment method for customers who shop in the Winter season ?\n",
    "# df1[df1['Review Rating']>4]['Shipping Type'].mode()[0]\n",
    "df1[df1['Season']=='Winter']['Payment Method'].value_counts()"
   ]
  },
  {
   "cell_type": "code",
   "execution_count": 102,
   "id": "under-station",
   "metadata": {},
   "outputs": [
    {
     "data": {
      "text/plain": [
       "'PayPal'"
      ]
     },
     "execution_count": 102,
     "metadata": {},
     "output_type": "execute_result"
    }
   ],
   "source": [
    "df1[df1['Season']=='Winter']['Payment Method'].mode()[0]"
   ]
  },
  {
   "cell_type": "code",
   "execution_count": 103,
   "id": "common-official",
   "metadata": {},
   "outputs": [
    {
     "data": {
      "text/plain": [
       "Location\n",
       "Alabama           5261\n",
       "Alaska            4867\n",
       "Arizona           4326\n",
       "Arkansas          4828\n",
       "California        5605\n",
       "Colorado          4222\n",
       "Connecticut       4226\n",
       "Delaware          4758\n",
       "Florida           3798\n",
       "Georgia           4645\n",
       "Hawaii            3752\n",
       "Idaho             5587\n",
       "Illinois          5617\n",
       "Indiana           4655\n",
       "Iowa              4201\n",
       "Kansas            3437\n",
       "Kentucky          4402\n",
       "Louisiana         4848\n",
       "Maine             4388\n",
       "Maryland          4795\n",
       "Massachusetts     4384\n",
       "Michigan          4533\n",
       "Minnesota         4977\n",
       "Mississippi       4883\n",
       "Missouri          4691\n",
       "Montana           5784\n",
       "Nebraska          5172\n",
       "Nevada            5514\n",
       "New Hampshire     4219\n",
       "New Jersey        3802\n",
       "New Mexico        5014\n",
       "New York          5257\n",
       "North Carolina    4742\n",
       "North Dakota      5220\n",
       "Ohio              4649\n",
       "Oklahoma          4376\n",
       "Oregon            4243\n",
       "Pennsylvania      4926\n",
       "Rhode Island      3871\n",
       "South Carolina    4439\n",
       "South Dakota      4236\n",
       "Tennessee         4772\n",
       "Texas             4712\n",
       "Utah              4443\n",
       "Vermont           4860\n",
       "Virginia          4842\n",
       "Washington        4623\n",
       "West Virginia     5174\n",
       "Wisconsin         4196\n",
       "Wyoming           4309\n",
       "Name: Purchase Amount (USD), dtype: int64"
      ]
     },
     "execution_count": 103,
     "metadata": {},
     "output_type": "execute_result"
    }
   ],
   "source": [
    "# What is the total purchase amount for customers in each location ?\n",
    "df1.groupby(\"Location\")['Purchase Amount (USD)'].sum()"
   ]
  },
  {
   "cell_type": "code",
   "execution_count": 106,
   "id": "combined-census",
   "metadata": {},
   "outputs": [
    {
     "data": {
      "text/plain": [
       "57.51149425287356"
      ]
     },
     "execution_count": 106,
     "metadata": {},
     "output_type": "execute_result"
    }
   ],
   "source": [
    "# What is the average purchase amount for customers who have a subscription and used Venmo as the payment method ?\n",
    "\n",
    "df1[(df1[\"Subscription Status\"]==\"Yes\")&(df1['Payment Method']==\"Venmo\")]['Purchase Amount (USD)'].mean()"
   ]
  },
  {
   "cell_type": "code",
   "execution_count": 108,
   "id": "minor-dimension",
   "metadata": {},
   "outputs": [
    {
     "data": {
      "text/plain": [
       "Every 3 Months    584\n",
       "Annually          572\n",
       "Quarterly         563\n",
       "Monthly           553\n",
       "Bi-Weekly         547\n",
       "Fortnightly       542\n",
       "Weekly            539\n",
       "Name: Frequency of Purchases, dtype: int64"
      ]
     },
     "execution_count": 108,
     "metadata": {},
     "output_type": "execute_result"
    }
   ],
   "source": [
    "# What is the frequency distribution of the 'Frequency of Purchases' column ?\n",
    "df1['Frequency of Purchases'].value_counts()"
   ]
  },
  {
   "cell_type": "code",
   "execution_count": 110,
   "id": "vital-affect",
   "metadata": {},
   "outputs": [
    {
     "data": {
      "image/png": "[encoded data removed]",
      "text/plain": [
       "<Figure size 1440x360 with 1 Axes>"
      ]
     },
     "metadata": {
      "needs_background": "light"
     },
     "output_type": "display_data"
    }
   ],
   "source": [
    "# KDE plot for Purchase Amount by Season\n",
    "import seaborn as sns\n",
    "plt.figure(figsize=(20, 5))\n",
    "sns.kdeplot(data = df, x = 'Purchase Amount (USD)', hue = 'Season', common_norm = False, fill = True, palette = 'Set1')\n",
    "plt.title('KDE Plot of Purchase Amount by Season')\n",
    "plt.xlabel('Purchase Amount in USD')\n",
    "plt.show()"
   ]
  },
  {
   "cell_type": "code",
   "execution_count": 111,
   "id": "sought-recommendation",
   "metadata": {},
   "outputs": [
    {
     "data": {
      "text/plain": [
       "Clothing       1737\n",
       "Accessories    1240\n",
       "Footwear        599\n",
       "Outerwear       324\n",
       "Name: Category, dtype: int64"
      ]
     },
     "execution_count": 111,
     "metadata": {},
     "output_type": "execute_result"
    }
   ],
   "source": [
    "# How many customers have made a purchase in each category?\n",
    "df['Category'].value_counts()"
   ]
  },
  {
   "cell_type": "code",
   "execution_count": 113,
   "id": "verified-baghdad",
   "metadata": {},
   "outputs": [
    {
     "name": "stdout",
     "output_type": "stream",
     "text": [
      "Pearson Correlation between Age and Previous Purchases: 0.04044453114289462\n"
     ]
    }
   ],
   "source": [
    "# correlation_age_previous_purchases = df['Age'].corr(df['Previous Purchases'], method='pearson')\n",
    "\n",
    "correlation_age_prev_purchases = df1['Age'].corr(df1['Previous Purchases'],method='pearson')\n",
    "print(\"Pearson Correlation between Age and Previous Purchases:\", correlation_age_prev_purchases)"
   ]
  },
  {
   "cell_type": "code",
   "execution_count": 119,
   "id": "moral-diamond",
   "metadata": {},
   "outputs": [
    {
     "data": {
      "image/png": "[encoded data removed]",
      "text/plain": [
       "<Figure size 1440x432 with 1 Axes>"
      ]
     },
     "metadata": {
      "needs_background": "light"
     },
     "output_type": "display_data"
    }
   ],
   "source": [
    "# Box Plot of Purchase Amount by Gender\n",
    "plt.figure(figsize = (20, 6))\n",
    "sns.boxplot(x=\"Gender\",y=\"Purchase Amount (USD)\",data=df1)\n",
    "plt.title('Purchase Amount by Gender')\n",
    "plt.xlabel('Gender')\n",
    "plt.ylabel('Purchase Amount (USD)')\n",
    "plt.show()"
   ]
  },
  {
   "cell_type": "code",
   "execution_count": 120,
   "id": "significant-bolivia",
   "metadata": {},
   "outputs": [
    {
     "data": {
      "text/plain": [
       "<Figure size 1440x432 with 0 Axes>"
      ]
     },
     "metadata": {},
     "output_type": "display_data"
    },
    {
     "data": {
      "image/png": "[encoded data removed]",
      "text/plain": [
       "<Figure size 432x288 with 1 Axes>"
      ]
     },
     "metadata": {
      "needs_background": "light"
     },
     "output_type": "display_data"
    }
   ],
   "source": [
    "subscription_gender_counts = df.groupby(['Gender', 'Subscription Status']).size().unstack()\n",
    "plt.figure(figsize = (20, 6))\n",
    "subscription_gender_counts.plot(kind='bar', stacked=True, rot = 0);\n",
    "plt.title('Subscription Status by Gender')\n",
    "plt.xlabel('Gender')\n",
    "plt.ylabel('Count')\n",
    "plt.show();"
   ]
  },
  {
   "cell_type": "code",
   "execution_count": 123,
   "id": "prescribed-visiting",
   "metadata": {},
   "outputs": [
    {
     "data": {
      "image/png": "[encoded data removed]",
      "text/plain": [
       "<Figure size 1440x432 with 1 Axes>"
      ]
     },
     "metadata": {
      "needs_background": "light"
     },
     "output_type": "display_data"
    }
   ],
   "source": [
    "plt.figure(figsize=(20, 6))\n",
    "sns.barplot(x='Season', y='Purchase Amount (USD)', hue='Payment Method', data=df)\n",
    "plt.title('Purchase Amount by Season and Payment Method')\n",
    "plt.xlabel('Season')\n",
    "plt.ylabel('Purchase Amount (USD)')\n",
    "plt.xticks(rotation = 0)\n",
    "plt.show()"
   ]
  },
  {
   "cell_type": "code",
   "execution_count": null,
   "id": "reverse-savage",
   "metadata": {},
   "outputs": [],
   "source": []
  },
  {
   "cell_type": "code",
   "execution_count": null,
   "id": "meaningful-square",
   "metadata": {},
   "outputs": [],
   "source": []
  },
  {
   "cell_type": "code",
   "execution_count": null,
   "id": "indonesian-footwear",
   "metadata": {},
   "outputs": [],
   "source": []
  },
  {
   "cell_type": "code",
   "execution_count": null,
   "id": "found-legislation",
   "metadata": {},
   "outputs": [],
   "source": []
  }
 ],
 "metadata": {
  "kernelspec": {
   "display_name": "Python 3",
   "language": "python",
   "name": "python3"
  },
  "language_info": {
   "codemirror_mode": {
    "name": "ipython",
    "version": 3
   },
   "file_extension": ".py",
   "mimetype": "text/x-python",
   "name": "python",
   "nbconvert_exporter": "python",
   "pygments_lexer": "ipython3",
   "version": "3.7.2"
  }
 },
 "nbformat": 4,
 "nbformat_minor": 5
}
